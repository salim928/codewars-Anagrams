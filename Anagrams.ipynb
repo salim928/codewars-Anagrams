{
 "cells": [
  {
   "cell_type": "code",
   "execution_count": null,
   "id": "9870c495",
   "metadata": {},
   "outputs": [],
   "source": [
    "def anagrams(word, words):\n",
    "    #arranging x in word in ascending order\n",
    "    x = sorted(word)\n",
    "    #return w as an array for w in words if x is equal to sorted w else none\n",
    "    return [w for w in words if x ==sorted(w)]"
   ]
  }
 ],
 "metadata": {
  "kernelspec": {
   "display_name": "Python 3 (ipykernel)",
   "language": "python",
   "name": "python3"
  },
  "language_info": {
   "codemirror_mode": {
    "name": "ipython",
    "version": 3
   },
   "file_extension": ".py",
   "mimetype": "text/x-python",
   "name": "python",
   "nbconvert_exporter": "python",
   "pygments_lexer": "ipython3",
   "version": "3.9.7"
  }
 },
 "nbformat": 4,
 "nbformat_minor": 5
}
